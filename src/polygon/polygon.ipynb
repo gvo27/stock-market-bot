{
 "cells": [
  {
   "cell_type": "code",
   "execution_count": 1,
   "metadata": {},
   "outputs": [],
   "source": [
    "import polygon\n",
    "import datetime\n",
    "import json"
   ]
  },
  {
   "cell_type": "code",
   "execution_count": 9,
   "metadata": {},
   "outputs": [],
   "source": [
    "secrets_filename = \"polygon_key.json\"\n",
    "api_keys = {}\n",
    "\n",
    "with open(secrets_filename, 'r') as f:\n",
    "    api_keys = json.loads(f.read())\n",
    "\n",
    "API_KEY = api_keys[\"POLYGON_SECRET\"]\n",
    "stocks_client = polygon.StocksClient(API_KEY)"
   ]
  },
  {
   "cell_type": "code",
   "execution_count": 10,
   "metadata": {},
   "outputs": [
    {
     "data": {
      "text/plain": [
       "{'status': 'NOT_AUTHORIZED',\n",
       " 'request_id': 'c382d369e46f1b0d242fa902a74ff445',\n",
       " 'message': 'You are not entitled to this data. Please upgrade your plan at https://polygon.io/pricing'}"
      ]
     },
     "execution_count": 10,
     "metadata": {},
     "output_type": "execute_result"
    }
   ],
   "source": [
    "stocks_client.get_trades('SPY', datetime.datetime.now() - datetime.timedelta(days=20))"
   ]
  }
 ],
 "metadata": {
  "kernelspec": {
   "display_name": "venv",
   "language": "python",
   "name": "python3"
  },
  "language_info": {
   "codemirror_mode": {
    "name": "ipython",
    "version": 3
   },
   "file_extension": ".py",
   "mimetype": "text/x-python",
   "name": "python",
   "nbconvert_exporter": "python",
   "pygments_lexer": "ipython3",
   "version": "3.11.0"
  }
 },
 "nbformat": 4,
 "nbformat_minor": 2
}
